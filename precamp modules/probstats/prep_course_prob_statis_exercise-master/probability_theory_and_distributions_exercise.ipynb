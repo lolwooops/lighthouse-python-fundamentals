{
 "cells": [
  {
   "cell_type": "code",
   "execution_count": 2,
   "metadata": {
    "ExecuteTime": {
     "end_time": "2020-02-05T17:54:42.062131Z",
     "start_time": "2020-02-05T17:54:41.626763Z"
    }
   },
   "outputs": [],
   "source": [
    "# import numpy\n",
    "import numpy as np\n",
    "\n",
    "# import matplotlib.pyplot\n",
    "import matplotlib.pyplot as plt\n",
    "\n",
    "# import Counter\n",
    "from collections import Counter\n",
    "\n",
    "# use style 'fivethirtyeight' (optional)\n",
    "plt.style.use('fivethirtyeight')"
   ]
  },
  {
   "cell_type": "markdown",
   "metadata": {
    "ExecuteTime": {
     "end_time": "2020-02-05T17:54:42.113199Z",
     "start_time": "2020-02-05T17:54:42.101587Z"
    }
   },
   "source": [
    "#### Create function `perform_bernouli_trial` with parameters n and p\n",
    "\n",
    "PARAMS:\n",
    "- n (int) - number of trials\n",
    "- p (float) - probability of success\n",
    "\n",
    "RETURNS:\n",
    "- n_success (int) - number of successes"
   ]
  },
  {
   "cell_type": "code",
   "execution_count": 2,
   "metadata": {},
   "outputs": [],
   "source": [
    "#def perform_bernouli_trial(n,p):\n",
    "def perform_bernouli_trial():\n",
    "    print(\"How many trials?\")\n",
    "    n = int(input())\n",
    "    print(\"Probability of success?\")\n",
    "    p = float(input())\n",
    "    n_success = np.random.binomial(n,p)\n",
    "    return n_success"
   ]
  },
  {
   "cell_type": "code",
   "execution_count": null,
   "metadata": {},
   "outputs": [],
   "source": []
  },
  {
   "cell_type": "markdown",
   "metadata": {
    "ExecuteTime": {
     "end_time": "2020-02-05T17:54:42.610756Z",
     "start_time": "2020-02-05T17:54:42.602316Z"
    }
   },
   "source": [
    "#### Use function `perform_bernoulli_trials` with inputs n = 100, p = 0.5"
   ]
  },
  {
   "cell_type": "code",
   "execution_count": 3,
   "metadata": {},
   "outputs": [
    {
     "name": "stdout",
     "output_type": "stream",
     "text": [
      "How many trials?\n",
      "100\n",
      "Probability of success?\n",
      "0.5\n"
     ]
    },
    {
     "data": {
      "text/plain": [
       "47"
      ]
     },
     "execution_count": 3,
     "metadata": {},
     "output_type": "execute_result"
    }
   ],
   "source": [
    "perform_bernouli_trial()"
   ]
  },
  {
   "cell_type": "code",
   "execution_count": null,
   "metadata": {},
   "outputs": [],
   "source": []
  },
  {
   "cell_type": "markdown",
   "metadata": {
    "ExecuteTime": {
     "end_time": "2020-02-05T17:54:43.020097Z",
     "start_time": "2020-02-05T17:54:42.962800Z"
    }
   },
   "source": [
    "#### Call function _perform_bernoulli_trials_ 1000-times with same parameters as before and store the result in `successes_list`"
   ]
  },
  {
   "cell_type": "code",
   "execution_count": 3,
   "metadata": {},
   "outputs": [],
   "source": [
    "def perform_bernouli_trials_set(n,p):\n",
    "    n=int(n)\n",
    "    p=float(p)\n",
    "    n_success = np.random.binomial(n,p)\n",
    "    return n_success\n",
    "\n",
    "i=0\n",
    "j=[]\n",
    "while i <= 1000:\n",
    "    perform_bernouli_trials_set(100,0.5)\n",
    "    i+=1\n",
    "    j.append(perform_bernouli_trials_set(100,0.5))\n",
    "#successes_list = j"
   ]
  },
  {
   "cell_type": "code",
   "execution_count": null,
   "metadata": {},
   "outputs": [],
   "source": []
  },
  {
   "cell_type": "markdown",
   "metadata": {
    "ExecuteTime": {
     "end_time": "2020-02-05T17:54:43.296477Z",
     "start_time": "2020-02-05T17:54:43.289959Z"
    }
   },
   "source": [
    "#### Count occurence of each number from `successes_list` using Counter and store the result in `count_occurence`\n",
    "\n",
    "You can find for more info about Counter [**here**](https://docs.python.org/2/library/collections.html#collections.Counter)."
   ]
  },
  {
   "cell_type": "code",
   "execution_count": 4,
   "metadata": {},
   "outputs": [
    {
     "data": {
      "text/plain": [
       "Counter({44: 51,\n",
       "         57: 29,\n",
       "         56: 47,\n",
       "         55: 56,\n",
       "         50: 73,\n",
       "         58: 13,\n",
       "         52: 77,\n",
       "         51: 79,\n",
       "         43: 27,\n",
       "         53: 60,\n",
       "         67: 2,\n",
       "         42: 21,\n",
       "         59: 27,\n",
       "         49: 89,\n",
       "         45: 52,\n",
       "         46: 61,\n",
       "         48: 61,\n",
       "         37: 3,\n",
       "         40: 10,\n",
       "         62: 10,\n",
       "         60: 7,\n",
       "         54: 55,\n",
       "         47: 57,\n",
       "         41: 13,\n",
       "         39: 9,\n",
       "         64: 2,\n",
       "         38: 2,\n",
       "         61: 2,\n",
       "         34: 1,\n",
       "         35: 1,\n",
       "         36: 1,\n",
       "         63: 1,\n",
       "         66: 1,\n",
       "         65: 1})"
      ]
     },
     "execution_count": 4,
     "metadata": {},
     "output_type": "execute_result"
    }
   ],
   "source": [
    "c = Counter(j)\n",
    "c"
   ]
  },
  {
   "cell_type": "code",
   "execution_count": null,
   "metadata": {},
   "outputs": [],
   "source": []
  },
  {
   "cell_type": "markdown",
   "metadata": {
    "ExecuteTime": {
     "end_time": "2020-02-05T17:54:43.571225Z",
     "start_time": "2020-02-05T17:54:43.568147Z"
    }
   },
   "source": [
    "#### Count the probability for each number from `count_occurence` and store the result in `probas`\n"
   ]
  },
  {
   "cell_type": "code",
   "execution_count": 6,
   "metadata": {},
   "outputs": [
    {
     "data": {
      "text/plain": [
       "['<built-in method keys of dict object at 0x0000026E2CCF00C0>:5.094905094905095',\n",
       " '<built-in method keys of dict object at 0x0000026E2CCF00C0>:2.897102897102897',\n",
       " '<built-in method keys of dict object at 0x0000026E2CCF00C0>:4.695304695304695',\n",
       " '<built-in method keys of dict object at 0x0000026E2CCF00C0>:5.594405594405594',\n",
       " '<built-in method keys of dict object at 0x0000026E2CCF00C0>:7.292707292707293',\n",
       " '<built-in method keys of dict object at 0x0000026E2CCF00C0>:1.2987012987012987',\n",
       " '<built-in method keys of dict object at 0x0000026E2CCF00C0>:7.6923076923076925',\n",
       " '<built-in method keys of dict object at 0x0000026E2CCF00C0>:7.892107892107893',\n",
       " '<built-in method keys of dict object at 0x0000026E2CCF00C0>:2.697302697302697',\n",
       " '<built-in method keys of dict object at 0x0000026E2CCF00C0>:5.994005994005994',\n",
       " '<built-in method keys of dict object at 0x0000026E2CCF00C0>:0.1998001998001998',\n",
       " '<built-in method keys of dict object at 0x0000026E2CCF00C0>:2.097902097902098',\n",
       " '<built-in method keys of dict object at 0x0000026E2CCF00C0>:2.697302697302697',\n",
       " '<built-in method keys of dict object at 0x0000026E2CCF00C0>:8.89110889110889',\n",
       " '<built-in method keys of dict object at 0x0000026E2CCF00C0>:5.194805194805195',\n",
       " '<built-in method keys of dict object at 0x0000026E2CCF00C0>:6.093906093906094',\n",
       " '<built-in method keys of dict object at 0x0000026E2CCF00C0>:6.093906093906094',\n",
       " '<built-in method keys of dict object at 0x0000026E2CCF00C0>:0.2997002997002997',\n",
       " '<built-in method keys of dict object at 0x0000026E2CCF00C0>:0.999000999000999',\n",
       " '<built-in method keys of dict object at 0x0000026E2CCF00C0>:0.999000999000999',\n",
       " '<built-in method keys of dict object at 0x0000026E2CCF00C0>:0.6993006993006993',\n",
       " '<built-in method keys of dict object at 0x0000026E2CCF00C0>:5.4945054945054945',\n",
       " '<built-in method keys of dict object at 0x0000026E2CCF00C0>:5.694305694305695',\n",
       " '<built-in method keys of dict object at 0x0000026E2CCF00C0>:1.2987012987012987',\n",
       " '<built-in method keys of dict object at 0x0000026E2CCF00C0>:0.8991008991008992',\n",
       " '<built-in method keys of dict object at 0x0000026E2CCF00C0>:0.1998001998001998',\n",
       " '<built-in method keys of dict object at 0x0000026E2CCF00C0>:0.1998001998001998',\n",
       " '<built-in method keys of dict object at 0x0000026E2CCF00C0>:0.1998001998001998',\n",
       " '<built-in method keys of dict object at 0x0000026E2CCF00C0>:0.0999000999000999',\n",
       " '<built-in method keys of dict object at 0x0000026E2CCF00C0>:0.0999000999000999',\n",
       " '<built-in method keys of dict object at 0x0000026E2CCF00C0>:0.0999000999000999',\n",
       " '<built-in method keys of dict object at 0x0000026E2CCF00C0>:0.0999000999000999',\n",
       " '<built-in method keys of dict object at 0x0000026E2CCF00C0>:0.0999000999000999',\n",
       " '<built-in method keys of dict object at 0x0000026E2CCF00C0>:0.0999000999000999']"
      ]
     },
     "execution_count": 6,
     "metadata": {},
     "output_type": "execute_result"
    }
   ],
   "source": [
    "total = sum(c.values())\n",
    "probas = []\n",
    "for v in c:\n",
    "    prob = c[v]/total*100\n",
    "    probas.append('{}:{}'.format(c[v],prob))\n",
    "probas"
   ]
  },
  {
   "cell_type": "code",
   "execution_count": null,
   "metadata": {},
   "outputs": [],
   "source": []
  },
  {
   "cell_type": "markdown",
   "metadata": {},
   "source": [
    "Below you have some information about how to do plots in Python. We will be covering all of this during the bootcamp. But you can find these basics here so we can visualize the distributions."
   ]
  },
  {
   "cell_type": "code",
   "execution_count": null,
   "metadata": {
    "ExecuteTime": {
     "end_time": "2020-02-05T17:54:44.056628Z",
     "start_time": "2020-02-05T17:54:43.850076Z"
    }
   },
   "outputs": [],
   "source": [
    "# plot distribution (PMF) of 'succes_list'\n",
    "plt.scatter(x=count_occurence.keys(), y=probas)\n",
    "plt.xlabel('number of succeess out of 100')\n",
    "plt.ylabel('probability')\n",
    "# Show the plot\n",
    "plt.show()"
   ]
  },
  {
   "cell_type": "markdown",
   "metadata": {
    "ExecuteTime": {
     "end_time": "2020-02-05T17:54:44.112264Z",
     "start_time": "2020-02-05T17:54:44.096570Z"
    }
   },
   "source": [
    "#### Generate 100000 numbers from uniform distribution with parameters a = 1, b = 6\n"
   ]
  },
  {
   "cell_type": "code",
   "execution_count": 25,
   "metadata": {},
   "outputs": [],
   "source": [
    "samples = np.random.normal(1, 6, size = 100000)"
   ]
  },
  {
   "cell_type": "code",
   "execution_count": null,
   "metadata": {},
   "outputs": [],
   "source": []
  },
  {
   "cell_type": "code",
   "execution_count": 3,
   "metadata": {
    "ExecuteTime": {
     "end_time": "2020-02-05T17:54:44.515039Z",
     "start_time": "2020-02-05T17:54:44.330746Z"
    },
    "collapsed": true,
    "jupyter": {
     "outputs_hidden": true
    }
   },
   "outputs": [
    {
     "ename": "NameError",
     "evalue": "name 'plt' is not defined",
     "output_type": "error",
     "traceback": [
      "\u001b[0;31m---------------------------------------------------------------------------\u001b[0m",
      "\u001b[0;31mNameError\u001b[0m                                 Traceback (most recent call last)",
      "\u001b[0;32m<ipython-input-3-96137867e4bb>\u001b[0m in \u001b[0;36m<module>\u001b[0;34m\u001b[0m\n\u001b[1;32m      1\u001b[0m \u001b[0;31m# plot histogram of uniform distribution with paramsdensity=True, bins=6\u001b[0m\u001b[0;34m\u001b[0m\u001b[0;34m\u001b[0m\u001b[0;34m\u001b[0m\u001b[0m\n\u001b[0;32m----> 2\u001b[0;31m \u001b[0mplt\u001b[0m\u001b[0;34m.\u001b[0m\u001b[0mhist\u001b[0m\u001b[0;34m(\u001b[0m\u001b[0muniform\u001b[0m\u001b[0;34m,\u001b[0m \u001b[0mdensity\u001b[0m\u001b[0;34m=\u001b[0m\u001b[0;32mTrue\u001b[0m\u001b[0;34m,\u001b[0m \u001b[0mbins\u001b[0m\u001b[0;34m=\u001b[0m\u001b[0;36m6\u001b[0m\u001b[0;34m)\u001b[0m\u001b[0;34m\u001b[0m\u001b[0;34m\u001b[0m\u001b[0m\n\u001b[0m\u001b[1;32m      3\u001b[0m \u001b[0mplt\u001b[0m\u001b[0;34m.\u001b[0m\u001b[0mylabel\u001b[0m\u001b[0;34m(\u001b[0m\u001b[0;34m'density'\u001b[0m\u001b[0;34m)\u001b[0m\u001b[0;34m\u001b[0m\u001b[0;34m\u001b[0m\u001b[0m\n\u001b[1;32m      4\u001b[0m \u001b[0mplt\u001b[0m\u001b[0;34m.\u001b[0m\u001b[0mxlabel\u001b[0m\u001b[0;34m(\u001b[0m\u001b[0;34m'value'\u001b[0m\u001b[0;34m)\u001b[0m\u001b[0;34m\u001b[0m\u001b[0;34m\u001b[0m\u001b[0m\n\u001b[1;32m      5\u001b[0m \u001b[0mplt\u001b[0m\u001b[0;34m.\u001b[0m\u001b[0mshow\u001b[0m\u001b[0;34m(\u001b[0m\u001b[0;34m)\u001b[0m\u001b[0;34m\u001b[0m\u001b[0;34m\u001b[0m\u001b[0m\n",
      "\u001b[0;31mNameError\u001b[0m: name 'plt' is not defined"
     ]
    }
   ],
   "source": []
  },
  {
   "cell_type": "markdown",
   "metadata": {
    "ExecuteTime": {
     "end_time": "2020-02-05T17:54:44.583762Z",
     "start_time": "2020-02-05T17:54:44.555162Z"
    }
   },
   "source": [
    "#### Check the mean of uniform data (using NumPy)"
   ]
  },
  {
   "cell_type": "code",
   "execution_count": 26,
   "metadata": {},
   "outputs": [
    {
     "data": {
      "text/plain": [
       "1.0090089238974178"
      ]
     },
     "execution_count": 26,
     "metadata": {},
     "output_type": "execute_result"
    }
   ],
   "source": [
    "samples.mean()"
   ]
  },
  {
   "cell_type": "code",
   "execution_count": null,
   "metadata": {},
   "outputs": [],
   "source": []
  },
  {
   "cell_type": "markdown",
   "metadata": {
    "ExecuteTime": {
     "end_time": "2020-02-05T17:54:44.758510Z",
     "start_time": "2020-02-05T17:54:44.752087Z"
    }
   },
   "source": [
    "#### Generate 100000 numbers from exponential distribution with parameter beta = 0.5"
   ]
  },
  {
   "cell_type": "code",
   "execution_count": 27,
   "metadata": {},
   "outputs": [],
   "source": [
    "samplesexp=np.random.exponential(0.5,size=100000)"
   ]
  },
  {
   "cell_type": "code",
   "execution_count": null,
   "metadata": {},
   "outputs": [],
   "source": []
  },
  {
   "cell_type": "markdown",
   "metadata": {
    "ExecuteTime": {
     "end_time": "2020-02-05T17:54:45.134091Z",
     "start_time": "2020-02-05T17:54:44.956351Z"
    }
   },
   "source": [
    "#### Plot histogram of exponential distribution with params `density=True`, `bins=100`\n"
   ]
  },
  {
   "cell_type": "code",
   "execution_count": 28,
   "metadata": {},
   "outputs": [
    {
     "data": {
      "text/plain": [
       "(array([1.86979177e+00, 1.65518388e+00, 1.44819256e+00, 1.23627287e+00,\n",
       "        1.10828472e+00, 9.43259171e-01, 8.39912853e-01, 7.28352593e-01,\n",
       "        6.52634987e-01, 5.54814411e-01, 4.82979759e-01, 4.27722335e-01,\n",
       "        3.77841308e-01, 3.21090440e-01, 2.90773529e-01, 2.49106444e-01,\n",
       "        2.13562479e-01, 1.95790496e-01, 1.69804572e-01, 1.48597669e-01,\n",
       "        1.26345355e-01, 1.07527961e-01, 9.97620530e-02, 8.52756471e-02,\n",
       "        7.57176061e-02, 6.61595651e-02, 5.73482460e-02, 4.85369270e-02,\n",
       "        4.88356157e-02, 3.44985542e-02, 3.56933094e-02, 2.62846128e-02,\n",
       "        2.68819903e-02, 2.34470693e-02, 1.86680488e-02, 1.97134596e-02,\n",
       "        1.71746049e-02, 1.37396839e-02, 1.07527961e-02, 1.00060742e-02,\n",
       "        7.61656392e-03, 8.96066344e-03, 7.46721953e-03, 5.67508685e-03,\n",
       "        4.62967611e-03, 2.98688781e-03, 3.58426538e-03, 2.68819903e-03,\n",
       "        3.58426538e-03, 2.98688781e-03, 2.09082147e-03, 1.49344391e-03,\n",
       "        2.09082147e-03, 1.34409952e-03, 7.46721953e-04, 1.34409952e-03,\n",
       "        1.49344391e-03, 1.04541073e-03, 7.46721953e-04, 4.48033172e-04,\n",
       "        5.97377563e-04, 2.98688781e-04, 1.49344391e-04, 5.97377563e-04,\n",
       "        1.49344391e-04, 2.98688781e-04, 5.97377563e-04, 1.49344391e-04,\n",
       "        4.48033172e-04, 2.98688781e-04, 1.49344391e-04, 0.00000000e+00,\n",
       "        0.00000000e+00, 0.00000000e+00, 1.49344391e-04, 0.00000000e+00,\n",
       "        2.98688781e-04, 1.49344391e-04, 0.00000000e+00, 0.00000000e+00,\n",
       "        0.00000000e+00, 1.49344391e-04, 1.49344391e-04, 0.00000000e+00,\n",
       "        1.49344391e-04, 0.00000000e+00, 1.49344391e-04, 0.00000000e+00,\n",
       "        0.00000000e+00, 0.00000000e+00, 0.00000000e+00, 0.00000000e+00,\n",
       "        0.00000000e+00, 0.00000000e+00, 0.00000000e+00, 0.00000000e+00,\n",
       "        0.00000000e+00, 0.00000000e+00, 0.00000000e+00, 1.49344391e-04]),\n",
       " array([3.22944390e-06, 6.69625572e-02, 1.33921885e-01, 2.00881213e-01,\n",
       "        2.67840540e-01, 3.34799868e-01, 4.01759196e-01, 4.68718524e-01,\n",
       "        5.35677851e-01, 6.02637179e-01, 6.69596507e-01, 7.36555835e-01,\n",
       "        8.03515162e-01, 8.70474490e-01, 9.37433818e-01, 1.00439315e+00,\n",
       "        1.07135247e+00, 1.13831180e+00, 1.20527113e+00, 1.27223046e+00,\n",
       "        1.33918978e+00, 1.40614911e+00, 1.47310844e+00, 1.54006777e+00,\n",
       "        1.60702710e+00, 1.67398642e+00, 1.74094575e+00, 1.80790508e+00,\n",
       "        1.87486441e+00, 1.94182373e+00, 2.00878306e+00, 2.07574239e+00,\n",
       "        2.14270172e+00, 2.20966104e+00, 2.27662037e+00, 2.34357970e+00,\n",
       "        2.41053903e+00, 2.47749836e+00, 2.54445768e+00, 2.61141701e+00,\n",
       "        2.67837634e+00, 2.74533567e+00, 2.81229499e+00, 2.87925432e+00,\n",
       "        2.94621365e+00, 3.01317298e+00, 3.08013231e+00, 3.14709163e+00,\n",
       "        3.21405096e+00, 3.28101029e+00, 3.34796962e+00, 3.41492894e+00,\n",
       "        3.48188827e+00, 3.54884760e+00, 3.61580693e+00, 3.68276625e+00,\n",
       "        3.74972558e+00, 3.81668491e+00, 3.88364424e+00, 3.95060357e+00,\n",
       "        4.01756289e+00, 4.08452222e+00, 4.15148155e+00, 4.21844088e+00,\n",
       "        4.28540020e+00, 4.35235953e+00, 4.41931886e+00, 4.48627819e+00,\n",
       "        4.55323752e+00, 4.62019684e+00, 4.68715617e+00, 4.75411550e+00,\n",
       "        4.82107483e+00, 4.88803415e+00, 4.95499348e+00, 5.02195281e+00,\n",
       "        5.08891214e+00, 5.15587147e+00, 5.22283079e+00, 5.28979012e+00,\n",
       "        5.35674945e+00, 5.42370878e+00, 5.49066810e+00, 5.55762743e+00,\n",
       "        5.62458676e+00, 5.69154609e+00, 5.75850541e+00, 5.82546474e+00,\n",
       "        5.89242407e+00, 5.95938340e+00, 6.02634273e+00, 6.09330205e+00,\n",
       "        6.16026138e+00, 6.22722071e+00, 6.29418004e+00, 6.36113936e+00,\n",
       "        6.42809869e+00, 6.49505802e+00, 6.56201735e+00, 6.62897668e+00,\n",
       "        6.69593600e+00]),\n",
       " <BarContainer object of 100 artists>)"
      ]
     },
     "execution_count": 28,
     "metadata": {},
     "output_type": "execute_result"
    },
    {
     "data": {
      "image/png": "[encoded data removed]",
      "text/plain": [
       "<Figure size 432x288 with 1 Axes>"
      ]
     },
     "metadata": {},
     "output_type": "display_data"
    }
   ],
   "source": [
    "plt.hist(samplesexp,density=True, bins=100)"
   ]
  },
  {
   "cell_type": "code",
   "execution_count": null,
   "metadata": {},
   "outputs": [],
   "source": []
  },
  {
   "cell_type": "markdown",
   "metadata": {
    "ExecuteTime": {
     "end_time": "2020-02-05T17:54:45.187080Z",
     "start_time": "2020-02-05T17:54:45.171406Z"
    }
   },
   "source": [
    "#### Check the mean of exponential data"
   ]
  },
  {
   "cell_type": "code",
   "execution_count": 29,
   "metadata": {},
   "outputs": [
    {
     "data": {
      "text/plain": [
       "0.4990015858252086"
      ]
     },
     "execution_count": 29,
     "metadata": {},
     "output_type": "execute_result"
    }
   ],
   "source": [
    "samplesexp.mean()"
   ]
  },
  {
   "cell_type": "code",
   "execution_count": null,
   "metadata": {},
   "outputs": [],
   "source": []
  }
 ],
 "metadata": {
  "kernelspec": {
   "display_name": "Python 3",
   "language": "python",
   "name": "python3"
  },
  "language_info": {
   "codemirror_mode": {
    "name": "ipython",
    "version": 3
   },
   "file_extension": ".py",
   "mimetype": "text/x-python",
   "name": "python",
   "nbconvert_exporter": "python",
   "pygments_lexer": "ipython3",
   "version": "3.8.5"
  },
  "toc": {
   "base_numbering": 1,
   "nav_menu": {},
   "number_sections": true,
   "sideBar": true,
   "skip_h1_title": false,
   "title_cell": "Table of Contents",
   "title_sidebar": "Contents",
   "toc_cell": false,
   "toc_position": {},
   "toc_section_display": true,
   "toc_window_display": false
  },
  "varInspector": {
   "cols": {
    "lenName": 16,
    "lenType": 16,
    "lenVar": 40
   },
   "kernels_config": {
    "python": {
     "delete_cmd_postfix": "",
     "delete_cmd_prefix": "del ",
     "library": "var_list.py",
     "varRefreshCmd": "print(var_dic_list())"
    },
    "r": {
     "delete_cmd_postfix": ") ",
     "delete_cmd_prefix": "rm(",
     "library": "var_list.r",
     "varRefreshCmd": "cat(var_dic_list()) "
    }
   },
   "types_to_exclude": [
    "module",
    "function",
    "builtin_function_or_method",
    "instance",
    "_Feature"
   ],
   "window_display": false
  }
 },
 "nbformat": 4,
 "nbformat_minor": 4
}
