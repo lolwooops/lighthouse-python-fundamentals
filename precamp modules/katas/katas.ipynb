{
 "cells": [
  {
   "cell_type": "markdown",
   "metadata": {},
   "source": [
    "## KATA 1\n",
    "\n",
    "def sumLargestNumbers():\n",
    "     Put your solution here\n",
    "\n",
    "\n",
    "print(sumLargestNumbers([1, 10]))\n",
    "print(sumLargestNumbers([1, 2, 3]))\n",
    "print(sumLargestNumbers([10, 4, 34, 6, 92, 2]))"
   ]
  },
  {
   "cell_type": "code",
   "execution_count": null,
   "metadata": {},
   "outputs": [],
   "source": [
    "def sLN(x):\n",
    "    return sum(sorted(x)[-2:])"
   ]
  },
  {
   "cell_type": "markdown",
   "metadata": {},
   "source": [
    "## KATA 2\n",
    "\n",
    "Create a function named conditionalSum that will be given a list of numbers and a condition, in this case odd or even. Given this condition, add up only the values which match that condition. If no values match the condition, return 0."
   ]
  },
  {
   "cell_type": "code",
   "execution_count": 1,
   "metadata": {},
   "outputs": [],
   "source": [
    "def cSum(x,condition):\n",
    "    y=0\n",
    "    if condition == \"even\":\n",
    "        for i in x:\n",
    "            if i%2 == 0:\n",
    "                y+=i\n",
    "    elif condition == \"odd\":\n",
    "        for i in x:\n",
    "            if i%2 != 0:\n",
    "                y+=i\n",
    "    else:\n",
    "        return 0\n",
    "    return y"
   ]
  },
  {
   "cell_type": "code",
   "execution_count": 5,
   "metadata": {},
   "outputs": [
    {
     "data": {
      "text/plain": [
       "65"
      ]
     },
     "execution_count": 5,
     "metadata": {},
     "output_type": "execute_result"
    }
   ],
   "source": [
    "cSum([11,22,31,48,23], \"odd\")"
   ]
  },
  {
   "cell_type": "markdown",
   "metadata": {},
   "source": [
    "## KATA 3\n",
    "\n",
    "Create a function named numberOfVowels that will receive a string and return the number of vowels in that string."
   ]
  },
  {
   "cell_type": "code",
   "execution_count": 11,
   "metadata": {},
   "outputs": [],
   "source": [
    "def nOfV(x):\n",
    "    vowels = [\n",
    "        \"a\",\n",
    "        \"e\",\n",
    "        \"i\",\n",
    "        \"o\",\n",
    "        \"u\"\n",
    "    ]\n",
    "    v = 0\n",
    "    for letters in x.lower():\n",
    "        if letters in vowels:\n",
    "            v+=1\n",
    "    return v"
   ]
  },
  {
   "cell_type": "code",
   "execution_count": 14,
   "metadata": {},
   "outputs": [
    {
     "data": {
      "text/plain": [
       "5"
      ]
     },
     "execution_count": 14,
     "metadata": {},
     "output_type": "execute_result"
    }
   ],
   "source": [
    "nOfV(\"OrAngeEe\")"
   ]
  },
  {
   "cell_type": "markdown",
   "metadata": {},
   "source": [
    "## KATA 4\n",
    "\n",
    "\n",
    "Create a function named instructorWithLongestName that will receive a list of instructor dictionaries, and return the object that has the longest name. If there are two instructors with the longest name, return the first one."
   ]
  },
  {
   "cell_type": "code",
   "execution_count": 20,
   "metadata": {},
   "outputs": [],
   "source": [
    "def iWLN(x):\n",
    "    length = 0\n",
    "    name = \"\"\n",
    "    for i in x:\n",
    "        if len(i['name'])>length:\n",
    "            length = len(i['name'])\n",
    "            name = i\n",
    "        else:\n",
    "            continue\n",
    "    return name\n",
    "    "
   ]
  },
  {
   "cell_type": "markdown",
   "metadata": {},
   "source": [
    "## KATA 5\n",
    "\n",
    "Create a function named urlEncode that will receive a string of words, and return that string with all of the whitespace characters converted to %20. If there is whitespace on the outside of the string, like in our second example above, you should only replace the whitespace within the string."
   ]
  },
  {
   "cell_type": "code",
   "execution_count": 57,
   "metadata": {},
   "outputs": [],
   "source": [
    "def uE(x):\n",
    "    x = x.rstrip(\" \").lstrip(\" \")\n",
    "    newx = \"\"\n",
    "    for i in x:\n",
    "        if i == \" \":\n",
    "            newx += \"%20\"\n",
    "        else:\n",
    "            newx += i\n",
    "    return newx"
   ]
  },
  {
   "cell_type": "code",
   "execution_count": 58,
   "metadata": {},
   "outputs": [
    {
     "data": {
      "text/plain": [
       "'blue%20is%20greener%20than%20purple%20for%20sure'"
      ]
     },
     "execution_count": 58,
     "metadata": {},
     "output_type": "execute_result"
    }
   ],
   "source": [
    "uE(\"blue is greener than purple for sure \")"
   ]
  },
  {
   "cell_type": "markdown",
   "metadata": {},
   "source": [
    "## KATA 6\n",
    "\n",
    "We need to write a function called whereCanIPark() that returns the coordinates of an available parking spot for the vehicle, or returns false if there is no available spot. Our function receives a list of lists representing parking spots, and a string with type of the vehicle that is looking for a parking spot."
   ]
  },
  {
   "cell_type": "code",
   "execution_count": 69,
   "metadata": {},
   "outputs": [
    {
     "name": "stdout",
     "output_type": "stream",
     "text": [
      "[[4, 0]]\n",
      "False\n",
      "[[3, 5]]\n"
     ]
    }
   ],
   "source": [
    "def wCIP(x,vehicle):\n",
    "    available = []\n",
    "    for i in range(len(x)):\n",
    "        for j in range(len(x[i])):\n",
    "            if x[i][j] == vehicle[0].upper():\n",
    "                available.append([j,i])\n",
    "            else:\n",
    "                continue\n",
    "    if available == []:\n",
    "        return False\n",
    "    else:\n",
    "        return available\n",
    "    \n",
    "print(wCIP(\n",
    "  [\n",
    "    # COLUMNS ARE X\n",
    "    # 0    1    2    3    4    5\n",
    "    ['s', 's', 's', 'S', 'R', 'M'], # 0 ROWS ARE Y\n",
    "    ['s', 'M', 's', 'S', 'r', 'M'], # 1\n",
    "    ['s', 'M', 's', 'S', 'r', 'm'], # 2\n",
    "    ['S', 'r', 's', 'm', 'r', 'M'], # 3\n",
    "    ['S', 'r', 's', 'm', 'r', 'M'], # 4\n",
    "    ['S', 'r', 'S', 'M', 'M', 'S']  # 5\n",
    "  ],\n",
    "  'regular'\n",
    "))\n",
    "\n",
    "print(wCIP(\n",
    "  [\n",
    "    ['M', 'M', 'M', 'M'],\n",
    "    ['M', 's', 'M', 'M'],\n",
    "    ['M', 'M', 'M', 'M'],\n",
    "    ['M', 'M', 'r', 'M']\n",
    "  ],\n",
    "  'small'\n",
    "))\n",
    "\n",
    "print(wCIP(\n",
    "  [\n",
    "    ['s', 's', 's', 's', 's', 's'],\n",
    "    ['s', 'm', 's', 'S', 'r', 's'],\n",
    "    ['s', 'm', 's', 'S', 'r', 's'],\n",
    "    ['S', 'r', 's', 'm', 'r', 's'],\n",
    "    ['S', 'r', 's', 'm', 'R', 's'],\n",
    "    ['S', 'r', 'S', 'M', 'm', 'S']\n",
    "  ],\n",
    "  'motorcycle'\n",
    "))"
   ]
  },
  {
   "cell_type": "markdown",
   "metadata": {},
   "source": [
    "## KATA 7\n",
    "\n",
    "For this challenge, we will implement a function called checkAir(), which will check a collection of air samples. The function will take in two arguments. The first argument is a list of strings, where each string represents a small air sample that is either clean or dirty. The second argument is a number representing the highest acceptable amount of dirty samples. For example, a threshold of 0.4 means that there must be less than 40% of total samples classified as dirty for our air to be considered clean. Our function must return Polluted if there are too many dirty air samples, or Clean if the proportion of dirty samples is below the threshold."
   ]
  },
  {
   "cell_type": "code",
   "execution_count": 77,
   "metadata": {},
   "outputs": [],
   "source": [
    "def cA(samples,threshold):\n",
    "    dirty = 0\n",
    "    for i in samples:\n",
    "        if i == \"dirty\":\n",
    "            dirty += 1\n",
    "    if dirty/len(samples) > threshold:\n",
    "        return(\"Polluted\")\n",
    "    else:\n",
    "        return(\"Clean\")"
   ]
  },
  {
   "cell_type": "code",
   "execution_count": 78,
   "metadata": {},
   "outputs": [
    {
     "name": "stdout",
     "output_type": "stream",
     "text": [
      "Polluted\n",
      "Polluted\n",
      "Clean\n"
     ]
    }
   ],
   "source": [
    "print(cA(\n",
    "  ['clean', 'clean', 'dirty', 'clean', 'dirty', 'clean', 'clean', 'dirty', 'clean', 'dirty'],\n",
    "  0.3\n",
    "))\n",
    "print(cA(\n",
    "  ['dirty', 'dirty', 'dirty', 'dirty', 'clean'],\n",
    "  0.25\n",
    "))\n",
    "\n",
    "print(cA(\n",
    "  ['clean', 'dirty', 'clean', 'dirty', 'clean', 'dirty', 'clean'],\n",
    "  0.9\n",
    "))"
   ]
  },
  {
   "cell_type": "markdown",
   "metadata": {},
   "source": [
    "## KATA 8\n",
    "\n",
    "\n",
    "Create a function named repeatNumbers that will return a string with each of the given values repeated the appropriate number of times. If there are multiple sets of values each set should be separated by a comma. If there is only one set of values then you should omit the comma."
   ]
  },
  {
   "cell_type": "code",
   "execution_count": 83,
   "metadata": {},
   "outputs": [
    {
     "name": "stdout",
     "output_type": "stream",
     "text": [
      "1111111111\n",
      "11222\n",
      "101010103434343434349292\n"
     ]
    }
   ],
   "source": [
    "def rN(x):\n",
    "    newx=\"\"\n",
    "    for i in x:\n",
    "        newx=newx+(str(i[0])*i[1])\n",
    "    return newx\n",
    "\n",
    "print(rN([[1, 10]]))\n",
    "print(rN([[1, 2], [2, 3]]))\n",
    "print(rN([[10, 4], [34, 6], [92, 2]]))"
   ]
  },
  {
   "cell_type": "markdown",
   "metadata": {},
   "source": [
    "## KATA 9\n",
    "\n",
    "\n",
    "Create a function named camelCase that will convert a string to a camel case, and return the result."
   ]
  },
  {
   "cell_type": "code",
   "execution_count": 89,
   "metadata": {},
   "outputs": [
    {
     "name": "stdout",
     "output_type": "stream",
     "text": [
      "thisIsAString\n",
      "loopyLighthouse\n",
      "supercalifragalisticexpialidocious\n"
     ]
    }
   ],
   "source": [
    "def cC(x):\n",
    "    x = x.lstrip(\" ,.\").rstrip(\" ,.\")\n",
    "    x = x.split()\n",
    "    newx = x[0]\n",
    "    for i in x[1:]: \n",
    "        newx=newx+i.capitalize()\n",
    "    return newx\n",
    "\n",
    "print(cC(\"this is a string\"))\n",
    "print(cC(\"loopy lighthouse\"))\n",
    "print(cC(\"supercalifragalisticexpialidocious\"))"
   ]
  },
  {
   "cell_type": "markdown",
   "metadata": {},
   "source": [
    "## KATA 10\n",
    "\n",
    "Create a function named multiplicationTable that receives a number maxValue as input and creates a square multiplication table where maxValue is the largest value in the table."
   ]
  },
  {
   "cell_type": "code",
   "execution_count": 118,
   "metadata": {},
   "outputs": [],
   "source": [
    "def mtable(x):\n",
    "    for row in range(1,x+1):\n",
    "        for col in range(1,x+1):\n",
    "            print(row*col, end=\"\\t\")\n",
    "        print()"
   ]
  },
  {
   "cell_type": "code",
   "execution_count": 119,
   "metadata": {},
   "outputs": [
    {
     "name": "stdout",
     "output_type": "stream",
     "text": [
      "1\t2\t3\t4\t5\t6\t7\t8\t9\t10\t11\t12\t13\t\n",
      "2\t4\t6\t8\t10\t12\t14\t16\t18\t20\t22\t24\t26\t\n",
      "3\t6\t9\t12\t15\t18\t21\t24\t27\t30\t33\t36\t39\t\n",
      "4\t8\t12\t16\t20\t24\t28\t32\t36\t40\t44\t48\t52\t\n",
      "5\t10\t15\t20\t25\t30\t35\t40\t45\t50\t55\t60\t65\t\n",
      "6\t12\t18\t24\t30\t36\t42\t48\t54\t60\t66\t72\t78\t\n",
      "7\t14\t21\t28\t35\t42\t49\t56\t63\t70\t77\t84\t91\t\n",
      "8\t16\t24\t32\t40\t48\t56\t64\t72\t80\t88\t96\t104\t\n",
      "9\t18\t27\t36\t45\t54\t63\t72\t81\t90\t99\t108\t117\t\n",
      "10\t20\t30\t40\t50\t60\t70\t80\t90\t100\t110\t120\t130\t\n",
      "11\t22\t33\t44\t55\t66\t77\t88\t99\t110\t121\t132\t143\t\n",
      "12\t24\t36\t48\t60\t72\t84\t96\t108\t120\t132\t144\t156\t\n",
      "13\t26\t39\t52\t65\t78\t91\t104\t117\t130\t143\t156\t169\t\n"
     ]
    }
   ],
   "source": [
    "mtable(13)\n"
   ]
  },
  {
   "cell_type": "code",
   "execution_count": null,
   "metadata": {},
   "outputs": [],
   "source": []
  }
 ],
 "metadata": {
  "kernelspec": {
   "display_name": "Python 3",
   "language": "python",
   "name": "python3"
  },
  "language_info": {
   "codemirror_mode": {
    "name": "ipython",
    "version": 3
   },
   "file_extension": ".py",
   "mimetype": "text/x-python",
   "name": "python",
   "nbconvert_exporter": "python",
   "pygments_lexer": "ipython3",
   "version": "3.8.5"
  }
 },
 "nbformat": 4,
 "nbformat_minor": 4
}
